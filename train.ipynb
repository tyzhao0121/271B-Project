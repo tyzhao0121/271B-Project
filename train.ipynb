{
 "cells": [
  {
   "cell_type": "code",
   "execution_count": null,
   "metadata": {
    "scrolled": false
   },
   "outputs": [
    {
     "name": "stderr",
     "output_type": "stream",
     "text": [
      "WARNING: Logging before flag parsing goes to stderr.\n",
      "W0229 15:13:28.390786 139758875916096 deprecation_wrapper.py:119] From /home/tiz007/271B-Project/AutoContext.py:178: The name tf.placeholder is deprecated. Please use tf.compat.v1.placeholder instead.\n",
      "\n",
      "W0229 15:13:30.559663 139758875916096 deprecation_wrapper.py:119] From /home/tiz007/271B-Project/AutoContext.py:191: The name tf.losses.softmax_cross_entropy is deprecated. Please use tf.compat.v1.losses.softmax_cross_entropy instead.\n",
      "\n",
      "W0229 15:13:30.614048 139758875916096 deprecation.py:323] From /opt/conda/lib/python3.7/site-packages/tensorflow/python/ops/losses/losses_impl.py:121: add_dispatch_support.<locals>.wrapper (from tensorflow.python.ops.array_ops) is deprecated and will be removed in a future version.\n",
      "Instructions for updating:\n",
      "Use tf.where in 2.0, which has the same broadcast rule as np.where\n",
      "W0229 15:13:30.633745 139758875916096 deprecation_wrapper.py:119] From /home/tiz007/271B-Project/AutoContext.py:203: The name tf.train.AdamOptimizer is deprecated. Please use tf.compat.v1.train.AdamOptimizer instead.\n",
      "\n",
      "W0229 15:13:35.463696 139758875916096 deprecation_wrapper.py:119] From /home/tiz007/271B-Project/AutoContext.py:217: The name tf.train.Saver is deprecated. Please use tf.compat.v1.train.Saver instead.\n",
      "\n",
      "W0229 15:13:35.670136 139758875916096 deprecation_wrapper.py:119] From /home/tiz007/271B-Project/AutoContext.py:221: The name tf.global_variables_initializer is deprecated. Please use tf.compat.v1.global_variables_initializer instead.\n",
      "\n",
      "W0229 15:13:37.553143 139758875916096 deprecation_wrapper.py:119] From /home/tiz007/271B-Project/AutoContext.py:229: The name tf.Session is deprecated. Please use tf.compat.v1.Session instead.\n",
      "\n"
     ]
    },
    {
     "name": "stdout",
     "output_type": "stream",
     "text": [
      "1.0 0.0\n",
      "(2618, 256, 256, 3)\n",
      "Batch_idx: 0, Minibatch Loss: 0.816502 , Training Accuracy: 0.08156, Dice Coeffecient: 0.00600 \n",
      "Batch_idx: 20, Minibatch Loss: 0.402964 , Training Accuracy: 0.65519, Dice Coeffecient: 0.00608 \n",
      "Batch_idx: 40, Minibatch Loss: 0.346407 , Training Accuracy: 0.81179, Dice Coeffecient: 0.00045 \n",
      "Batch_idx: 60, Minibatch Loss: 0.311488 , Training Accuracy: 0.68692, Dice Coeffecient: 0.00344 \n",
      "Batch_idx: 80, Minibatch Loss: 0.278067 , Training Accuracy: 0.84476, Dice Coeffecient: 0.01328 \n",
      "Batch_idx: 100, Minibatch Loss: 0.250679 , Training Accuracy: 0.85750, Dice Coeffecient: 0.00328 \n",
      "Batch_idx: 120, Minibatch Loss: 0.211690 , Training Accuracy: 0.83982, Dice Coeffecient: 0.02857 \n",
      "Batch_idx: 140, Minibatch Loss: 0.187281 , Training Accuracy: 0.90425, Dice Coeffecient: 0.22284 \n"
     ]
    }
   ],
   "source": [
    "from AutoContext import AutoContext\n",
    "\n",
    "model = AutoContext(4, 500)\n",
    "\n",
    "model.train()"
   ]
  },
  {
   "cell_type": "code",
   "execution_count": null,
   "metadata": {},
   "outputs": [],
   "source": []
  }
 ],
 "metadata": {
  "kernelspec": {
   "display_name": "Python 3",
   "language": "python",
   "name": "python3"
  },
  "language_info": {
   "codemirror_mode": {
    "name": "ipython",
    "version": 3
   },
   "file_extension": ".py",
   "mimetype": "text/x-python",
   "name": "python",
   "nbconvert_exporter": "python",
   "pygments_lexer": "ipython3",
   "version": "3.7.3"
  }
 },
 "nbformat": 4,
 "nbformat_minor": 2
}
