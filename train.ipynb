{
 "cells": [
  {
   "cell_type": "code",
   "execution_count": null,
   "metadata": {
    "scrolled": false
   },
   "outputs": [
    {
     "name": "stderr",
     "output_type": "stream",
     "text": [
      "WARNING: Logging before flag parsing goes to stderr.\n",
      "W0229 05:14:53.407012 140145405802304 deprecation_wrapper.py:119] From /home/tiz007/271B-Project/AutoContext.py:178: The name tf.placeholder is deprecated. Please use tf.compat.v1.placeholder instead.\n",
      "\n",
      "W0229 05:14:55.093712 140145405802304 deprecation_wrapper.py:119] From /home/tiz007/271B-Project/AutoContext.py:191: The name tf.losses.softmax_cross_entropy is deprecated. Please use tf.compat.v1.losses.softmax_cross_entropy instead.\n",
      "\n",
      "W0229 05:14:55.122887 140145405802304 deprecation.py:323] From /opt/conda/lib/python3.7/site-packages/tensorflow/python/ops/losses/losses_impl.py:121: add_dispatch_support.<locals>.wrapper (from tensorflow.python.ops.array_ops) is deprecated and will be removed in a future version.\n",
      "Instructions for updating:\n",
      "Use tf.where in 2.0, which has the same broadcast rule as np.where\n",
      "W0229 05:14:55.133114 140145405802304 deprecation_wrapper.py:119] From /home/tiz007/271B-Project/AutoContext.py:203: The name tf.train.AdamOptimizer is deprecated. Please use tf.compat.v1.train.AdamOptimizer instead.\n",
      "\n",
      "W0229 05:14:58.363970 140145405802304 deprecation_wrapper.py:119] From /home/tiz007/271B-Project/AutoContext.py:215: The name tf.train.Saver is deprecated. Please use tf.compat.v1.train.Saver instead.\n",
      "\n",
      "W0229 05:14:58.508410 140145405802304 deprecation_wrapper.py:119] From /home/tiz007/271B-Project/AutoContext.py:219: The name tf.global_variables_initializer is deprecated. Please use tf.compat.v1.global_variables_initializer instead.\n",
      "\n",
      "W0229 05:14:59.172864 140145405802304 deprecation_wrapper.py:119] From /home/tiz007/271B-Project/AutoContext.py:227: The name tf.Session is deprecated. Please use tf.compat.v1.Session instead.\n",
      "\n"
     ]
    },
    {
     "name": "stdout",
     "output_type": "stream",
     "text": [
      "1.0 0.0\n",
      "(2618, 256, 256, 3)\n",
      "Batch_idx: 0, Minibatch Loss: 0.610410 , Training Accuracy: 0.55252, Dice Coeffecient: 0.00001 \n",
      "Batch_idx: 20, Minibatch Loss: 0.263656 , Training Accuracy: 0.81399, Dice Coeffecient: 0.06043 \n",
      "Batch_idx: 40, Minibatch Loss: 0.181201 , Training Accuracy: 0.90443, Dice Coeffecient: 0.09696 \n",
      "Batch_idx: 60, Minibatch Loss: 0.153668 , Training Accuracy: 0.92207, Dice Coeffecient: 0.05284 \n",
      "Batch_idx: 80, Minibatch Loss: 0.133292 , Training Accuracy: 0.92961, Dice Coeffecient: 0.11442 \n",
      "Batch_idx: 100, Minibatch Loss: 0.113717 , Training Accuracy: 0.92739, Dice Coeffecient: 0.00483 \n",
      "Batch_idx: 120, Minibatch Loss: 0.103678 , Training Accuracy: 0.93554, Dice Coeffecient: 0.13546 \n",
      "Batch_idx: 140, Minibatch Loss: 0.102630 , Training Accuracy: 0.92397, Dice Coeffecient: 0.01245 \n",
      "Batch_idx: 160, Minibatch Loss: 0.103274 , Training Accuracy: 0.93475, Dice Coeffecient: 0.10529 \n",
      "Batch_idx: 180, Minibatch Loss: 0.074233 , Training Accuracy: 0.95158, Dice Coeffecient: 0.16638 \n"
     ]
    }
   ],
   "source": [
    "from AutoContext import AutoContext\n",
    "\n",
    "model = AutoContext(4, 10)\n",
    "\n",
    "model.train()"
   ]
  },
  {
   "cell_type": "code",
   "execution_count": null,
   "metadata": {},
   "outputs": [],
   "source": []
  }
 ],
 "metadata": {
  "kernelspec": {
   "display_name": "Python 3",
   "language": "python",
   "name": "python3"
  },
  "language_info": {
   "codemirror_mode": {
    "name": "ipython",
    "version": 3
   },
   "file_extension": ".py",
   "mimetype": "text/x-python",
   "name": "python",
   "nbconvert_exporter": "python",
   "pygments_lexer": "ipython3",
   "version": "3.7.3"
  }
 },
 "nbformat": 4,
 "nbformat_minor": 2
}
